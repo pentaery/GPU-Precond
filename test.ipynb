{
 "cells": [
  {
   "cell_type": "code",
   "execution_count": 1,
   "metadata": {},
   "outputs": [],
   "source": [
    "import cugraph"
   ]
  },
  {
   "cell_type": "code",
   "execution_count": 2,
   "metadata": {},
   "outputs": [
    {
     "name": "stdout",
     "output_type": "stream",
     "text": [
      "PageRank 结果:\n",
      "   vertex  pagerank\n",
      "0       1  0.295212\n",
      "1       2  0.295212\n",
      "2       0  0.204788\n",
      "3       3  0.204788\n",
      "cuGraph 测试成功！\n"
     ]
    },
    {
     "name": "stderr",
     "output_type": "stream",
     "text": [
      "/home/ET/yjzhou/miniconda3/envs/cugraph_dev/lib/python3.12/site-packages/cugraph/link_analysis/pagerank.py:232: UserWarning: Pagerank expects the 'store_transposed' flag to be set to 'True' for optimal performance during the graph creation\n",
      "  warnings.warn(warning_msg, UserWarning)\n"
     ]
    }
   ],
   "source": [
    "import cudf\n",
    "import cugraph\n",
    "import numpy as np\n",
    "\n",
    "def test_cugraph():\n",
    "    # 创建一个简单的图数据（边列表）\n",
    "    # 格式：源顶点 -> 目标顶点\n",
    "    edges = [\n",
    "        (0, 1),\n",
    "        (0, 2),\n",
    "        (1, 2),\n",
    "        (2, 0),\n",
    "        (2, 3),\n",
    "        (3, 1)\n",
    "    ]\n",
    "\n",
    "    # 将边数据转换为 cuDF DataFrame\n",
    "    source = [edge[0] for edge in edges]\n",
    "    destination = [edge[1] for edge in edges]\n",
    "    gdf = cudf.DataFrame({\n",
    "        'source': source,\n",
    "        'destination': destination\n",
    "    })\n",
    "\n",
    "    # 创建 cuGraph 图对象\n",
    "    G = cugraph.Graph()\n",
    "    G.from_cudf_edgelist(gdf, source='source', destination='destination')\n",
    "\n",
    "    # 计算 PageRank\n",
    "    pagerank_df = cugraph.pagerank(G, max_iter=100, tol=1.0e-5)\n",
    "\n",
    "    # 打印结果\n",
    "    print(\"PageRank 结果:\")\n",
    "    print(pagerank_df)\n",
    "\n",
    "    # 检查是否成功运行\n",
    "    if not pagerank_df.empty:\n",
    "        print(\"cuGraph 测试成功！\")\n",
    "    else:\n",
    "        print(\"cuGraph 测试失败，结果为空。\")\n",
    "\n",
    "if __name__ == \"__main__\":\n",
    "    try:\n",
    "        test_cugraph()\n",
    "    except Exception as e:\n",
    "        print(f\"运行 cuGraph 时出错: {e}\")"
   ]
  }
 ],
 "metadata": {
  "kernelspec": {
   "display_name": "cugraph_dev",
   "language": "python",
   "name": "python3"
  },
  "language_info": {
   "codemirror_mode": {
    "name": "ipython",
    "version": 3
   },
   "file_extension": ".py",
   "mimetype": "text/x-python",
   "name": "python",
   "nbconvert_exporter": "python",
   "pygments_lexer": "ipython3",
   "version": "3.12.9"
  }
 },
 "nbformat": 4,
 "nbformat_minor": 2
}
